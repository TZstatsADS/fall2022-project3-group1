{
 "cells": [
  {
   "cell_type": "markdown",
   "id": "alone-nickel",
   "metadata": {},
   "source": [
    "# Traning Model 2\n",
    "### Chengming He"
   ]
  },
  {
   "cell_type": "code",
   "execution_count": 2,
   "id": "spare-arctic",
   "metadata": {},
   "outputs": [],
   "source": [
    "import sys  \n",
    "sys.path.insert(0, '../lib')\n",
    "import tensorflow as tf\n",
    "import numpy as np\n",
    "import pandas as pd\n",
    "import sklearn\n",
    "from tensorflow import keras\n",
    "from tqdm import tqdm\n",
    "import os\n",
    "import pandas as pd\n",
    "import numpy as np\n",
    "from PIL import Image\n",
    "import random\n",
    "import time\n",
    "import matplotlib.pyplot as plt\n",
    "from utils.image_generator import ImageGenerator\n",
    "from utils.model import NoisyNet\n",
    "from utils.trainer import trainer\n",
    "os.environ['TF_CPP_MIN_LOG_LEVEL'] = '2' "
   ]
  },
  {
   "cell_type": "markdown",
   "id": "third-portable",
   "metadata": {},
   "source": [
    "## 1. Train label cleaning network on Densenet\n",
    "\n",
    "### 1.1 Loading data"
   ]
  },
  {
   "cell_type": "code",
   "execution_count": 12,
   "id": "curious-ballet",
   "metadata": {},
   "outputs": [
    {
     "name": "stdout",
     "output_type": "stream",
     "text": [
      "10000 50000\n"
     ]
    }
   ],
   "source": [
    "clean = pd.read_csv('../../proj3/train_data/clean_labels.csv',header=None)\n",
    "noisy = pd.read_csv('../../proj3/train_data/noisy_labels.csv',header=None)\n",
    "print(len(clean),len(noisy))"
   ]
  },
  {
   "cell_type": "code",
   "execution_count": 15,
   "id": "metropolitan-speaking",
   "metadata": {},
   "outputs": [],
   "source": [
    "train_cleaner = \"../../proj3/train_data/images/train_label_cleaning\" \n",
    "train_classifier = \"../../proj3/train_data/images/train_image_classification\" "
   ]
  },
  {
   "cell_type": "code",
   "execution_count": 16,
   "id": "static-cancer",
   "metadata": {},
   "outputs": [
    {
     "name": "stderr",
     "output_type": "stream",
     "text": [
      "100%|███████████████████████████████████| 10000/10000 [00:08<00:00, 1161.14it/s]\n"
     ]
    }
   ],
   "source": [
    "##training for label cleaning\n",
    "image_list=[]\n",
    "clean_label_list=[]\n",
    "noisy_label_list=[]\n",
    "for file in tqdm(os.listdir(train_cleaner)):\n",
    "#     print(\"Reading folder {}\".format(file))\n",
    "    filename = os.fsdecode(file)\n",
    "    filenum = int(filename[:5])\n",
    "    image_list.append(np.array(Image.open(os.path.join(train_cleaner,file))))\n",
    "    clean_label_list.append(int(clean.iloc[filenum-1]))\n",
    "    noisy_label_list.append(int(noisy.iloc[filenum-1]))"
   ]
  },
  {
   "cell_type": "code",
   "execution_count": 17,
   "id": "forced-intranet",
   "metadata": {},
   "outputs": [
    {
     "name": "stdout",
     "output_type": "stream",
     "text": [
      "Image dimensions:  (32, 32, 3)\n",
      "Number of labels:  [0 1 2 3 4 5 6 7 8 9]\n"
     ]
    }
   ],
   "source": [
    "X=np.array(image_list)\n",
    "y_noisy=np.array(noisy_label_list).reshape(len(noisy_label_list),1)\n",
    "y_clean=np.array(clean_label_list)\n",
    "print(\"Image dimensions: \",X[0].shape)\n",
    "print(\"Number of labels: \",np.unique(y_noisy))"
   ]
  },
  {
   "cell_type": "markdown",
   "id": "concerned-associate",
   "metadata": {},
   "source": [
    "### 1.2 Loading data\n",
    "Split clean data into train, validation and test."
   ]
  },
  {
   "cell_type": "code",
   "execution_count": 18,
   "id": "gorgeous-fountain",
   "metadata": {},
   "outputs": [
    {
     "name": "stdout",
     "output_type": "stream",
     "text": [
      "7000 7000 7000 2000 2000 2000 1000 1000 1000\n"
     ]
    }
   ],
   "source": [
    "###Train, validation, and test split of the clean labled images\n",
    "np.random.seed(0)\n",
    "train_frac = 0.7\n",
    "val_frac = 0.2\n",
    "test_frac = 0.1\n",
    "index = np.arange(len(X));np.random.shuffle(index)\n",
    "train_index,val_index,test_index = index[:int(train_frac*len(X))],index[int(train_frac*len(X)):int((train_frac+val_frac)*len(X))],index[int((train_frac+val_frac)*len(X)):]\n",
    "X_train, X_val,X_test = X[train_index],X[val_index],X[test_index]\n",
    "y_noisy_train, y_noisy_val, y_noisy_test = y_noisy[train_index],y_noisy[val_index], y_noisy[test_index]\n",
    "y_clean_train, y_clean_val, y_clean_test = y_clean[train_index],y_clean[val_index], y_clean[test_index]\n",
    "print(len(X_train),len(y_noisy_train),len(y_clean_train),len(X_val),len(y_noisy_val),len(y_clean_val),len(X_test),len(y_noisy_test),len(y_clean_test))"
   ]
  },
  {
   "cell_type": "markdown",
   "id": "amazing-textbook",
   "metadata": {},
   "source": [
    "### 1.3 Training"
   ]
  },
  {
   "cell_type": "code",
   "execution_count": 8,
   "id": "recreational-house",
   "metadata": {},
   "outputs": [
    {
     "name": "stdout",
     "output_type": "stream",
     "text": [
      "Vertical flip:  False Horizontal flip:  True\n",
      "Size of training data:28000\n"
     ]
    }
   ],
   "source": [
    "batch_size = 128\n",
    "train_data = ImageGenerator(X_train,y_noisy_train,y_clean_train)\n",
    "train_data.rotate(angle=30)\n",
    "train_data.translate(3,3)\n",
    "train_data.flip()\n",
    "train_data.create_aug_data()\n",
    "train_data = train_data.next_batch_gen(batch_size=batch_size)\n",
    "validation_data = ImageGenerator(X_val,y_noisy_val,y_clean_val).next_batch_gen(batch_size=batch_size)"
   ]
  },
  {
   "cell_type": "code",
   "execution_count": 10,
   "id": "mineral-vertical",
   "metadata": {},
   "outputs": [
    {
     "name": "stdout",
     "output_type": "stream",
     "text": [
      "Epoch 1/25\n",
      "Training accuracy: 0.3686 Validation accuracy: 0.4673 Time taken: 103.24s\n",
      "Epoch 2/25\n",
      "Training accuracy: 0.4814 Validation accuracy: 0.5049 Time taken: 103.72s\n",
      "Epoch 3/25\n",
      "Training accuracy: 0.5385 Validation accuracy: 0.5557 Time taken: 99.86s\n",
      "Epoch 4/25\n",
      "Training accuracy: 0.5756 Validation accuracy: 0.5312 Time taken: 100.37s\n",
      "Epoch 5/25\n",
      "Training accuracy: 0.5932 Validation accuracy: 0.5503 Time taken: 97.98s\n",
      "Epoch 6/25\n",
      "Training accuracy: 0.6027 Validation accuracy: 0.5811 Time taken: 98.82s\n",
      "Epoch 7/25\n",
      "Training accuracy: 0.6386 Validation accuracy: 0.5234 Time taken: 95.76s\n",
      "Epoch 8/25\n",
      "Training accuracy: 0.6352 Validation accuracy: 0.5981 Time taken: 97.87s\n",
      "Epoch 9/25\n",
      "Training accuracy: 0.6597 Validation accuracy: 0.5659 Time taken: 96.99s\n",
      "Epoch 10/25\n",
      "Training accuracy: 0.6538 Validation accuracy: 0.5820 Time taken: 103.42s\n",
      "Epoch 11/25\n",
      "Training accuracy: 0.6878 Validation accuracy: 0.5747 Time taken: 95.68s\n",
      "Epoch 12/25\n",
      "Training accuracy: 0.6696 Validation accuracy: 0.5762 Time taken: 94.08s\n",
      "Epoch 13/25\n",
      "Training accuracy: 0.6875 Validation accuracy: 0.5464 Time taken: 98.45s\n",
      "Epoch 14/25\n",
      "Training accuracy: 0.6939 Validation accuracy: 0.5737 Time taken: 94.48s\n",
      "Epoch 15/25\n",
      "Training accuracy: 0.7213 Validation accuracy: 0.5659 Time taken: 94.68s\n",
      "Epoch 16/25\n",
      "Training accuracy: 0.7173 Validation accuracy: 0.5649 Time taken: 94.61s\n",
      "Epoch 17/25\n",
      "Training accuracy: 0.7251 Validation accuracy: 0.5649 Time taken: 99.64s\n",
      "Epoch 18/25\n",
      "Training accuracy: 0.7308 Validation accuracy: 0.5801 Time taken: 95.03s\n",
      "Epoch 19/25\n",
      "Training accuracy: 0.7422 Validation accuracy: 0.5610 Time taken: 109.48s\n",
      "Epoch 20/25\n",
      "Training accuracy: 0.7536 Validation accuracy: 0.5825 Time taken: 107.68s\n",
      "Epoch 21/25\n",
      "Training accuracy: 0.7560 Validation accuracy: 0.5498 Time taken: 98.73s\n",
      "Epoch 22/25\n",
      "Training accuracy: 0.7662 Validation accuracy: 0.5659 Time taken: 98.65s\n",
      "Epoch 23/25\n",
      "Training accuracy: 0.7830 Validation accuracy: 0.5986 Time taken: 98.50s\n",
      "Epoch 24/25\n",
      "Training accuracy: 0.7991 Validation accuracy: 0.5591 Time taken: 100.47s\n",
      "Epoch 25/25\n",
      "Training accuracy: 0.7926 Validation accuracy: 0.5659 Time taken: 99.97s\n",
      "Total training time:  2478.1931331157684 s\n"
     ]
    }
   ],
   "source": [
    "model_densenet = NoisyNet(base_model='densenet')\n",
    "optimizer = tf.keras.optimizers.Nadam(learning_rate=0.001)\n",
    "loss_fn = tf.keras.losses.SparseCategoricalCrossentropy()\n",
    "train_acc_metric = tf.keras.metrics.SparseCategoricalAccuracy()\n",
    "val_acc_metric = tf.keras.metrics.SparseCategoricalAccuracy()\n",
    "epochs = 25\n",
    "log_densenet = trainer(model_densenet,batch_size,2,len(X_train),len(X_val),train_data,validation_data,epochs,optimizer,loss_fn,train_acc_metric,val_acc_metric,'dense_cleaning',verbose=1,save=True)"
   ]
  },
  {
   "cell_type": "code",
   "execution_count": 3,
   "id": "completed-control",
   "metadata": {},
   "outputs": [],
   "source": [
    "np.save('logs/log_densenet_label_cleaning',log_densenet)\n",
    "log_densenet = np.load('logs/log_densenet_label_cleaning.npy')"
   ]
  },
  {
   "cell_type": "code",
   "execution_count": 5,
   "id": "charitable-retention",
   "metadata": {},
   "outputs": [
    {
     "data": {
      "text/plain": [
       "Text(0.5, 0, 'epochs')"
      ]
     },
     "execution_count": 5,
     "metadata": {},
     "output_type": "execute_result"
    },
    {
     "data": {
      "image/png": "[encoded data removed]",
      "text/plain": [
       "<Figure size 500x300 with 1 Axes>"
      ]
     },
     "metadata": {},
     "output_type": "display_data"
    }
   ],
   "source": [
    "plt.figure(figsize=(5,3))\n",
    "plt.plot(np.arange(1,epochs+1),log_densenet[0],label='training loss')\n",
    "plt.plot(np.arange(1,epochs+1),1-log_densenet[1],label='training error')\n",
    "plt.plot(np.arange(1,epochs+1),1-log_densenet[2],label='validation error')\n",
    "plt.legend()\n",
    "plt.xlabel('epochs')"
   ]
  },
  {
   "cell_type": "markdown",
   "id": "gentle-shopper",
   "metadata": {},
   "source": [
    "### 1.4 Clean noisy data"
   ]
  },
  {
   "cell_type": "code",
   "execution_count": 20,
   "id": "played-programming",
   "metadata": {},
   "outputs": [],
   "source": [
    "model_densenet = NoisyNet(base_model='densenet')\n",
    "model_densenet([X_train[1:2],y_noisy_train[1:2]])\n",
    "model_densenet.load_weights('models/best_densenet.h5')"
   ]
  },
  {
   "cell_type": "code",
   "execution_count": 22,
   "id": "loving-pathology",
   "metadata": {},
   "outputs": [
    {
     "name": "stdout",
     "output_type": "stream",
     "text": [
      "32/32 [==============================] - 4s 58ms/step\n",
      "Test accuracy for label cleaning is:  0.569\n"
     ]
    }
   ],
   "source": [
    "test_accuracy=(np.argmax(model_densenet.predict([X_test,y_noisy_test]),axis=-1)==y_clean_test).mean()\n",
    "print('Test accuracy for label cleaning is: ',test_accuracy)"
   ]
  },
  {
   "cell_type": "markdown",
   "id": "tribal-specification",
   "metadata": {},
   "source": [
    "#### Generating cleaned label using trained network\n",
    "Loading noisy data..."
   ]
  },
  {
   "cell_type": "code",
   "execution_count": 13,
   "id": "convinced-driving",
   "metadata": {},
   "outputs": [
    {
     "name": "stderr",
     "output_type": "stream",
     "text": [
      "100%|███████████████████████████████████| 40000/40000 [00:39<00:00, 1009.90it/s]\n"
     ]
    }
   ],
   "source": [
    "image_list_classify=[]\n",
    "noisy_label_list_classify=[]\n",
    "for file in tqdm(os.listdir(train_classifier)):\n",
    "#     print(\"Reading folder {}\".format(file))\n",
    "    filename = os.fsdecode(file)\n",
    "    filenum = int(filename[:5])\n",
    "    image_list_classify.append(np.array(Image.open(os.path.join(train_classifier,file))))\n",
    "    noisy_label_list_classify.append(int(noisy.iloc[filenum-1]))\n",
    "X_only_noisy=np.array(image_list_classify)\n",
    "y_only_noisy=np.array(noisy_label_list_classify).reshape(len(noisy_label_list_classify),1)"
   ]
  },
  {
   "cell_type": "code",
   "execution_count": 27,
   "id": "worldwide-observer",
   "metadata": {},
   "outputs": [
    {
     "name": "stderr",
     "output_type": "stream",
     "text": [
      "100%|█████████████████████████████████████████| 100/100 [01:58<00:00,  1.19s/it]\n"
     ]
    }
   ],
   "source": [
    "batch_size = 400\n",
    "n = len(X_only_noisy) // batch_size\n",
    "cleaned_labels_densenet = np.array([])\n",
    "for i in tqdm(range(n)):\n",
    "    batch = [X_only_noisy[i*batch_size:(i+1)*batch_size],y_only_noisy[i*batch_size:(i+1)*batch_size]]\n",
    "    cleaned_labels_densenet = np.concatenate((cleaned_labels_densenet,np.argmax(model_densenet(batch),axis=-1)))\n",
    "cleaned_labels_densenet = cleaned_labels_densenet.astype(int)\n",
    "np.savetxt(\"../data/cleaned_labels/cleaned_labels_densenet.csv\", cleaned_labels_densenet, delimiter=\",\")"
   ]
  },
  {
   "cell_type": "code",
   "execution_count": 26,
   "id": "residential-dublin",
   "metadata": {},
   "outputs": [
    {
     "data": {
      "text/plain": [
       "40000"
      ]
     },
     "execution_count": 26,
     "metadata": {},
     "output_type": "execute_result"
    }
   ],
   "source": [
    "cleaned_labels_densenet = pd.read_csv('../data/cleaned_labels_densenet.csv',header=None).to_numpy().flatten()\n",
    "cleaned_labels_densenet.size"
   ]
  },
  {
   "cell_type": "markdown",
   "id": "olive-newman",
   "metadata": {},
   "source": [
    "# Conclusion:\n",
    "#### Label cleaning network based on ResNet outperforms DenseNet102."
   ]
  },
  {
   "cell_type": "code",
   "execution_count": null,
   "id": "brutal-trunk",
   "metadata": {},
   "outputs": [],
   "source": []
  }
 ],
 "metadata": {
  "kernelspec": {
   "display_name": "my-venv",
   "language": "python",
   "name": "my-venv"
  },
  "language_info": {
   "codemirror_mode": {
    "name": "ipython",
    "version": 3
   },
   "file_extension": ".py",
   "mimetype": "text/x-python",
   "name": "python",
   "nbconvert_exporter": "python",
   "pygments_lexer": "ipython3",
   "version": "3.7.9"
  }
 },
 "nbformat": 4,
 "nbformat_minor": 5
}
