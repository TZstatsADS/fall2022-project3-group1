{
 "cells": [
  {
   "cell_type": "markdown",
   "id": "fresh-quilt",
   "metadata": {},
   "source": [
    "# Traning Model 2\n",
    "### Chengming He"
   ]
  },
  {
   "cell_type": "code",
   "execution_count": 2,
   "id": "residential-hands",
   "metadata": {},
   "outputs": [],
   "source": [
    "import sys  \n",
    "sys.path.insert(0, '../lib')\n",
    "import tensorflow \n",
    "import tensorflow as tf\n",
    "import numpy as np\n",
    "import pandas as pd\n",
    "import sklearn\n",
    "from tensorflow import keras\n",
    "from tqdm import tqdm\n",
    "import os\n",
    "import pandas as pd\n",
    "import numpy as np\n",
    "from PIL import Image\n",
    "import random\n",
    "import time\n",
    "import matplotlib.pyplot as plt\n",
    "from utils.image_generator import ImageGenerator\n",
    "from utils.model import NoisyNet\n",
    "from utils.trainer import trainer\n",
    "import os\n",
    "os.environ['TF_CPP_MIN_LOG_LEVEL'] = '2' "
   ]
  },
  {
   "cell_type": "markdown",
   "id": "living-service",
   "metadata": {},
   "source": [
    "## 1. Train label cleaning network on Resnet50"
   ]
  },
  {
   "cell_type": "markdown",
   "id": "satisfactory-tolerance",
   "metadata": {},
   "source": [
    "### 1.1 Loading data"
   ]
  },
  {
   "cell_type": "code",
   "execution_count": 76,
   "id": "curious-ballet",
   "metadata": {},
   "outputs": [
    {
     "name": "stdout",
     "output_type": "stream",
     "text": [
      "10000 50000\n"
     ]
    }
   ],
   "source": [
    "clean = pd.read_csv('train_data/clean_labels.csv',header=None)\n",
    "noisy = pd.read_csv('train_data/noisy_labels.csv',header=None)\n",
    "print(len(clean),len(noisy))"
   ]
  },
  {
   "cell_type": "code",
   "execution_count": 77,
   "id": "metropolitan-speaking",
   "metadata": {},
   "outputs": [],
   "source": [
    "train_cleaner = \"./train_data/images/train_label_cleaning\" \n",
    "train_classifier = \"./train_data/images/train_image_classification\" "
   ]
  },
  {
   "cell_type": "code",
   "execution_count": 78,
   "id": "static-cancer",
   "metadata": {},
   "outputs": [
    {
     "name": "stderr",
     "output_type": "stream",
     "text": [
      "100%|███████████████████████████████████| 10000/10000 [00:08<00:00, 1232.30it/s]\n"
     ]
    }
   ],
   "source": [
    "##training for label cleaning\n",
    "image_list=[]\n",
    "clean_label_list=[]\n",
    "noisy_label_list=[]\n",
    "for file in tqdm(os.listdir(train_cleaner)):\n",
    "#     print(\"Reading folder {}\".format(file))\n",
    "    filename = os.fsdecode(file)\n",
    "    filenum = int(filename[:5])\n",
    "    image_list.append(np.array(Image.open(os.path.join(train_cleaner,file))))\n",
    "    clean_label_list.append(int(clean.iloc[filenum-1]))\n",
    "    noisy_label_list.append(int(noisy.iloc[filenum-1]))"
   ]
  },
  {
   "cell_type": "code",
   "execution_count": 53,
   "id": "biological-deadline",
   "metadata": {},
   "outputs": [
    {
     "name": "stdout",
     "output_type": "stream",
     "text": [
      "Image dimensions:  (32, 32, 3)\n",
      "Number of labels:  [0 1 2 3 4 5 6 7 8 9]\n"
     ]
    }
   ],
   "source": [
    "X=np.array(image_list)\n",
    "y_noisy=np.array(noisy_label_list).reshape(len(noisy_label_list),1)\n",
    "y_clean=np.array(clean_label_list)\n",
    "print(\"Image dimensions: \",X[0].shape)\n",
    "print(\"Number of labels: \",np.unique(y_noisy))"
   ]
  },
  {
   "cell_type": "markdown",
   "id": "sublime-pursuit",
   "metadata": {},
   "source": [
    "### 1.2 Split data"
   ]
  },
  {
   "cell_type": "markdown",
   "id": "ancient-identification",
   "metadata": {},
   "source": [
    "Split clean data into train, validation and test."
   ]
  },
  {
   "cell_type": "code",
   "execution_count": 54,
   "id": "static-davis",
   "metadata": {},
   "outputs": [
    {
     "name": "stdout",
     "output_type": "stream",
     "text": [
      "7000 7000 7000 2000 2000 2000 1000 1000 1000\n"
     ]
    }
   ],
   "source": [
    "###Train, validation, and test split of the clean labled images\n",
    "np.random.seed(0)\n",
    "train_frac = 0.7\n",
    "val_frac = 0.2\n",
    "test_frac = 0.1\n",
    "index = np.arange(len(X));np.random.shuffle(index)\n",
    "train_index,val_index,test_index = index[:int(train_frac*len(X))],index[int(train_frac*len(X)):int((train_frac+val_frac)*len(X))],index[int((train_frac+val_frac)*len(X)):]\n",
    "X_train, X_val,X_test = X[train_index],X[val_index],X[test_index]\n",
    "y_noisy_train, y_noisy_val, y_noisy_test = y_noisy[train_index],y_noisy[val_index], y_noisy[test_index]\n",
    "y_clean_train, y_clean_val, y_clean_test = y_clean[train_index],y_clean[val_index], y_clean[test_index]\n",
    "print(len(X_train),len(y_noisy_train),len(y_clean_train),len(X_val),len(y_noisy_val),len(y_clean_val),len(X_test),len(y_noisy_test),len(y_clean_test))"
   ]
  },
  {
   "cell_type": "markdown",
   "id": "excessive-antique",
   "metadata": {},
   "source": [
    "### 1.3 Training"
   ]
  },
  {
   "cell_type": "code",
   "execution_count": 8,
   "id": "spiritual-conservation",
   "metadata": {},
   "outputs": [
    {
     "name": "stdout",
     "output_type": "stream",
     "text": [
      "Vertical flip:  False Horizontal flip:  True\n",
      "Size of training data:28000\n"
     ]
    }
   ],
   "source": [
    "batch_size = 128\n",
    "train_data = ImageGenerator(X_train,y_noisy_train,y_clean_train)\n",
    "train_data.rotate(angle=30)\n",
    "train_data.translate(3,3)\n",
    "train_data.flip()\n",
    "train_data.create_aug_data()\n",
    "train_data = train_data.next_batch_gen(batch_size=batch_size)\n",
    "validation_data = ImageGenerator(X_val,y_noisy_val,y_clean_val).next_batch_gen(batch_size=batch_size)"
   ]
  },
  {
   "cell_type": "code",
   "execution_count": 55,
   "id": "confused-matrix",
   "metadata": {},
   "outputs": [],
   "source": [
    "model_resnet = NoisyNet(base_model='resnet50')\n",
    "optimizer = tf.keras.optimizers.Nadam(learning_rate=0.001)\n",
    "loss_fn = tf.keras.losses.SparseCategoricalCrossentropy()\n",
    "train_acc_metric = tf.keras.metrics.SparseCategoricalAccuracy()\n",
    "val_acc_metric = tf.keras.metrics.SparseCategoricalAccuracy()\n",
    "epochs = 25\n",
    "log_resnet = trainer(model_resnet,batch_size,2,len(X_train),len(X_val),train_data,validation_data,epochs,optimizer,loss_fn,train_acc_metric,val_acc_metric,verbose=1,save=True)\n",
    "np.save('logs/log_resnet_label_cleaning',log_resnet)"
   ]
  },
  {
   "cell_type": "code",
   "execution_count": 5,
   "id": "critical-placement",
   "metadata": {},
   "outputs": [
    {
     "data": {
      "text/plain": [
       "Text(0.5, 0, 'epochs')"
      ]
     },
     "execution_count": 5,
     "metadata": {},
     "output_type": "execute_result"
    },
    {
     "data": {
      "image/png": "[encoded data removed]",
      "text/plain": [
       "<Figure size 500x300 with 1 Axes>"
      ]
     },
     "metadata": {},
     "output_type": "display_data"
    }
   ],
   "source": [
    "log_resnet = np.load('logs/log_resnet_label_cleaning.npy')\n",
    "plt.figure(figsize=(5,3))\n",
    "plt.plot(np.arange(1,epochs+1),log_resnet[0],label='training loss')\n",
    "plt.plot(np.arange(1,epochs+1),1-log_resnet[1],label='training error')\n",
    "plt.plot(np.arange(1,epochs+1),1-log_resnet[2],label='validation error')\n",
    "plt.legend()\n",
    "plt.xlabel('epochs')"
   ]
  },
  {
   "cell_type": "markdown",
   "id": "minimal-tutorial",
   "metadata": {},
   "source": [
    "### 1.4 Clean noisy data"
   ]
  },
  {
   "cell_type": "code",
   "execution_count": 59,
   "id": "amazing-freedom",
   "metadata": {},
   "outputs": [],
   "source": [
    "model_resnet = NoisyNet(base_model='resnet50')\n",
    "model_resnet([X_train[1:2],y_noisy_train[1:2]])\n",
    "model_resnet.load_weights('models/best_resnet.h5')"
   ]
  },
  {
   "cell_type": "code",
   "execution_count": 62,
   "id": "disturbed-corrections",
   "metadata": {},
   "outputs": [
    {
     "name": "stdout",
     "output_type": "stream",
     "text": [
      "32/32 [==============================] - 2s 58ms/step\n",
      "Test accuracy for label cleaning is:  0.637\n"
     ]
    }
   ],
   "source": [
    "test_accuracy=(np.argmax(model_resnet.predict([X_test,y_noisy_test]),axis=-1)==y_clean_test).mean()\n",
    "print('Test accuracy for label cleaning is: ',test_accuracy)"
   ]
  },
  {
   "cell_type": "markdown",
   "id": "arbitrary-lightweight",
   "metadata": {},
   "source": [
    "#### Generating cleaned label using trained network\n",
    "Loading noisy data..."
   ]
  },
  {
   "cell_type": "code",
   "execution_count": 63,
   "id": "sufficient-currency",
   "metadata": {},
   "outputs": [
    {
     "name": "stderr",
     "output_type": "stream",
     "text": [
      "100%|███████████████████████████████████| 40000/40000 [00:28<00:00, 1387.32it/s]\n"
     ]
    }
   ],
   "source": [
    "image_list_classify=[]\n",
    "noisy_label_list_classify=[]\n",
    "for file in tqdm(os.listdir(train_classifier)):\n",
    "#     print(\"Reading folder {}\".format(file))\n",
    "    filename = os.fsdecode(file)\n",
    "    filenum = int(filename[:5])\n",
    "    image_list_classify.append(np.array(Image.open(os.path.join(train_classifier,file))))\n",
    "    noisy_label_list_classify.append(int(noisy.iloc[filenum-1]))\n",
    "X_only_noisy=np.array(image_list_classify)\n",
    "y_only_noisy=np.array(noisy_label_list_classify).reshape(len(noisy_label_list_classify),1)"
   ]
  },
  {
   "cell_type": "code",
   "execution_count": 12,
   "id": "liable-roulette",
   "metadata": {},
   "outputs": [
    {
     "name": "stderr",
     "output_type": "stream",
     "text": [
      "100%|█████████████████████████████████████████| 100/100 [01:26<00:00,  1.16it/s]\n"
     ]
    }
   ],
   "source": [
    "batch_size = 400\n",
    "n = len(X_only_noisy) // batch_size\n",
    "cleaned_labels_resnet = np.array([])\n",
    "for i in tqdm(range(n)):\n",
    "    batch = [X_only_noisy[i*batch_size:(i+1)*batch_size],y_only_noisy[i*batch_size:(i+1)*batch_size]]\n",
    "    cleaned_labels_resnet = np.concatenate((cleaned_labels_resnet,np.argmax(model_resnet(batch),axis=-1)))\n",
    "cleaned_labels_resnet = cleaned_labels_resnet.astype(int)\n",
    "np.savetxt(\"cleaned_labels/cleaned_labels_resnet.csv\", cleaned_labels_resnet, delimiter=\",\")"
   ]
  },
  {
   "cell_type": "code",
   "execution_count": 64,
   "id": "green-arlington",
   "metadata": {},
   "outputs": [
    {
     "data": {
      "text/plain": [
       "40000"
      ]
     },
     "execution_count": 64,
     "metadata": {},
     "output_type": "execute_result"
    }
   ],
   "source": [
    "cleaned_labels_resnet = pd.read_csv('cleaned_labels/cleaned_labels_resnet.csv',header=None).to_numpy().flatten()\n",
    "cleaned_labels_resnet.size"
   ]
  },
  {
   "cell_type": "markdown",
   "id": "median-encoding",
   "metadata": {},
   "source": [
    "# 2. Train image classification network using cleaned data"
   ]
  },
  {
   "cell_type": "markdown",
   "id": "overhead-prefix",
   "metadata": {},
   "source": [
    "### Using 40000 cleaned noisy data to train the image classifer."
   ]
  },
  {
   "cell_type": "code",
   "execution_count": 68,
   "id": "secret-estimate",
   "metadata": {},
   "outputs": [
    {
     "name": "stdout",
     "output_type": "stream",
     "text": [
      "35000 5000\n"
     ]
    }
   ],
   "source": [
    "from sklearn.metrics import classification_report\n",
    "from sklearn.model_selection import train_test_split\n",
    "from tensorflow.keras.preprocessing.image import ImageDataGenerator\n",
    "X = X_only_noisy\n",
    "y = cleaned_labels_resnet\n",
    "x_train, x_val, y_train, y_val=train_test_split(X,y,test_size=5000, random_state=42, stratify=y)\n",
    "print(len(x_train),len(x_val))"
   ]
  },
  {
   "cell_type": "markdown",
   "id": "published-church",
   "metadata": {},
   "source": [
    "### Build image classification model based on EfficientNetB0(same as model1)"
   ]
  },
  {
   "cell_type": "code",
   "execution_count": 69,
   "id": "noted-duplicate",
   "metadata": {},
   "outputs": [],
   "source": [
    "from tensorflow.keras.layers import Flatten,Dense,Dropout\n",
    "from tensorflow.keras import regularizers\n",
    "base = tensorflow.keras.applications.EfficientNetB0(include_top=False,\n",
    "                                        weights='imagenet',\n",
    "                                        input_shape=(32,32,3),\n",
    "                                        pooling='max')\n",
    "for layer in base.layers[:-4]: layer.trainable =False\n",
    "inputs = tf.keras.Input(shape=(32, 32, 3))\n",
    "x = base(inputs)\n",
    "x = Dense(512,activation='relu', kernel_regularizer=regularizers.L1L2(l1=1e-5, l2=1e-4),\n",
    "    bias_regularizer=regularizers.L2(1e-4),\n",
    "    activity_regularizer=regularizers.L2(1e-5))(x)\n",
    "x = Dropout(0.2)(x)\n",
    "outputs = Dense(10,activation='softmax')(x)\n",
    "model = tensorflow.keras.models.Model(inputs=inputs, outputs=outputs)"
   ]
  },
  {
   "cell_type": "code",
   "execution_count": 70,
   "id": "detailed-antique",
   "metadata": {},
   "outputs": [],
   "source": [
    "optimizer = tensorflow.keras.optimizers.Adam()\n",
    "model.compile(optimizer=optimizer,\n",
    "              loss=tf.keras.metrics.sparse_categorical_crossentropy,\n",
    "              metrics=['accuracy'])"
   ]
  },
  {
   "cell_type": "code",
   "execution_count": 45,
   "id": "careful-casting",
   "metadata": {},
   "outputs": [
    {
     "name": "stdout",
     "output_type": "stream",
     "text": [
      "Epoch 1/10\n",
      "235/235 [==============================] - 32s 116ms/step - loss: 1.8432 - accuracy: 0.4574 - val_loss: 1.6712 - val_accuracy: 0.5008\n",
      "Epoch 2/10\n",
      "235/235 [==============================] - 27s 115ms/step - loss: 1.5736 - accuracy: 0.5353 - val_loss: 1.6222 - val_accuracy: 0.5152\n",
      "Epoch 3/10\n",
      "235/235 [==============================] - 27s 113ms/step - loss: 1.4705 - accuracy: 0.5697 - val_loss: 1.6181 - val_accuracy: 0.5178\n",
      "Epoch 4/10\n",
      "235/235 [==============================] - 28s 118ms/step - loss: 1.3865 - accuracy: 0.5953 - val_loss: 1.6369 - val_accuracy: 0.5226\n",
      "Epoch 5/10\n",
      "235/235 [==============================] - 28s 120ms/step - loss: 1.3167 - accuracy: 0.6178 - val_loss: 1.6422 - val_accuracy: 0.5350\n",
      "Epoch 6/10\n",
      "235/235 [==============================] - 28s 120ms/step - loss: 1.2625 - accuracy: 0.6393 - val_loss: 1.7109 - val_accuracy: 0.5136\n",
      "Epoch 7/10\n",
      "235/235 [==============================] - 29s 122ms/step - loss: 1.2083 - accuracy: 0.6623 - val_loss: 1.7275 - val_accuracy: 0.5192\n",
      "Epoch 8/10\n",
      "235/235 [==============================] - 29s 124ms/step - loss: 1.1527 - accuracy: 0.6863 - val_loss: 1.8087 - val_accuracy: 0.5124\n",
      "Epoch 9/10\n",
      "235/235 [==============================] - 29s 123ms/step - loss: 1.1120 - accuracy: 0.7005 - val_loss: 1.8400 - val_accuracy: 0.5042\n",
      "Epoch 10/10\n",
      "235/235 [==============================] - 29s 122ms/step - loss: 1.0713 - accuracy: 0.7210 - val_loss: 1.9280 - val_accuracy: 0.5014\n"
     ]
    },
    {
     "data": {
      "text/plain": [
       "<keras.callbacks.History at 0x7f8b47f34790>"
      ]
     },
     "execution_count": 45,
     "metadata": {},
     "output_type": "execute_result"
    }
   ],
   "source": [
    "model.fit(x=x_train,\n",
    "          y=y_train,\n",
    "          validation_data=(x_val,y_val),\n",
    "          batch_size=128,\n",
    "          callbacks=tf.keras.callbacks.ModelCheckpoint(filepath = os.path.join('models', 'ckpt', 'densenet_prediction.h5'),\n",
    "                                                       save_best_only = True,save_weights_only=True),\n",
    "          epochs=10)"
   ]
  },
  {
   "cell_type": "markdown",
   "id": "authentic-holocaust",
   "metadata": {},
   "source": [
    "#### Testing on clean data"
   ]
  },
  {
   "cell_type": "code",
   "execution_count": null,
   "id": "regulation-indian",
   "metadata": {},
   "outputs": [],
   "source": [
    "model.load_weights('models/ckpt/densenet_prediction.h5')"
   ]
  },
  {
   "cell_type": "code",
   "execution_count": 47,
   "id": "southwest-observer",
   "metadata": {},
   "outputs": [
    {
     "name": "stdout",
     "output_type": "stream",
     "text": [
      "32/32 [==============================] - 3s 35ms/step\n"
     ]
    }
   ],
   "source": [
    "pred = np.argmax(model.predict(X_test),axis=-1)"
   ]
  },
  {
   "cell_type": "code",
   "execution_count": 72,
   "id": "coordinated-routine",
   "metadata": {},
   "outputs": [
    {
     "name": "stdout",
     "output_type": "stream",
     "text": [
      "The accuracy for image classification is:  0.56\n"
     ]
    }
   ],
   "source": [
    "print(\"The accuracy for image classification is: \",(y_clean_test==pred).mean())"
   ]
  },
  {
   "cell_type": "code",
   "execution_count": null,
   "id": "underlying-skirt",
   "metadata": {},
   "outputs": [],
   "source": []
  }
 ],
 "metadata": {
  "kernelspec": {
   "display_name": "my-venv",
   "language": "python",
   "name": "my-venv"
  },
  "language_info": {
   "codemirror_mode": {
    "name": "ipython",
    "version": 3
   },
   "file_extension": ".py",
   "mimetype": "text/x-python",
   "name": "python",
   "nbconvert_exporter": "python",
   "pygments_lexer": "ipython3",
   "version": "3.7.9"
  }
 },
 "nbformat": 4,
 "nbformat_minor": 5
}
